{
 "cells": [
  {
   "cell_type": "markdown",
   "metadata": {},
   "source": [
    "## Question 2:\n",
    "You’re given two dataframes. One contains information about addresses and the other contains relationships between various cities and states:\n",
    "\n",
    "df_addresses\n",
    "\n",
    "address\n",
    "\n",
    "4860 Sunset Boulevard, San Francisco, 94105 3055 Paradise Lane, Salt Lake City, 84103 682 Main Street, Detroit, 48204 9001 Cascade Road, Kansas City, 64102 5853 Leon Street, Tampa, 33605\n",
    "\n",
    "df_cities\n",
    "\n",
    "city state Salt Lake City Utah Kansas City Missouri Detroit Michigan Tampa Florida San Francisco California\n",
    "\n",
    "Write a function complete_address to create a single dataframe with complete addresses in the format of street, city, state, zipcode.\n"
   ]
  },
  {
   "cell_type": "markdown",
   "metadata": {},
   "source": [
    "### Answer\n",
    "My strategy here will be to:\n",
    "1. Isolate for the city in both the df_addresses and df_cities\n",
    "2. merge based on city\n",
    "3. Reformat text so it's in format requested"
   ]
  },
  {
   "cell_type": "code",
   "execution_count": 45,
   "metadata": {},
   "outputs": [
    {
     "name": "stdout",
     "output_type": "stream",
     "text": [
      "city     object\n",
      "state    object\n",
      "dtype: object\n",
      "0    4860 Sunset Boulevard, San Francisco, Californ...\n",
      "1      3055 Paradise Lane, Salt Lake City, Utah, 84103\n",
      "2            682 Main Street, Detroit, Michigan, 48204\n",
      "3      9001 Cascade Road, Kansas City, Missouri, 64102\n",
      "4              5853 Leon Street, Tampa, Florida, 33605\n",
      "dtype: object\n"
     ]
    }
   ],
   "source": [
    "import pandas as pd\n",
    "import numpy as np\n",
    "\n",
    "df_addresses = pd.DataFrame({\"address\": [\"4860 Sunset Boulevard, San Francisco, 94105\", \"3055 Paradise Lane, Salt Lake City, 84103\", \"682 Main Street, Detroit, 48204\", \"9001 Cascade Road, Kansas City, 64102\", \"5853 Leon Street, Tampa, 33605\"]})\n",
    "df_cities = pd.DataFrame({\"city\": [\"Salt Lake City\", \"Kansas City\", \"Detroit\", \"Tampa\", \"San Francisco\"], \"state\": [\"Utah\", \"Missouri\", \"Michigan\", \"Florida\", \"California\"]})\n",
    "\n",
    "#From the addresses data frame each city is contained in the each string in this format: \", city_name,\"\n",
    "#Let's split the address based on commas to isolate for the city\n",
    "df_addresses['city'] = df_addresses['address'].str.split(',', expand=True)[1]\n",
    "print(df_cities.dtypes)\n",
    "#Remove all leading/trailing whitespace\n",
    "df_addresses[\"city\"] = df_addresses['city'].str.strip()\n",
    "\n",
    "#Join the two dataframes on the city column \n",
    "df_addresses = df_addresses.merge(df_cities, how='left', on=['city'])\n",
    "\n",
    "#Assuming that all the addresses have the same 5 digit zip code at the and preceded by a space, insert state using indexing\n",
    "df_addrPart1 = df_addresses['address'].str[:-5]\n",
    "df_addrPart2 = df_addresses['address'].str[-6:]\n",
    "df_addresses = df_addrPart1 + df_addresses['state'] + ',' +df_addrPart2\n",
    "print(df_addresses)\n",
    "\n",
    "\n",
    "\n",
    "\n"
   ]
  },
  {
   "cell_type": "markdown",
   "metadata": {},
   "source": [
    "The above solution assumes that the zip code will always be constant, let's make a more general approach "
   ]
  },
  {
   "cell_type": "code",
   "execution_count": 56,
   "metadata": {},
   "outputs": [
    {
     "name": "stdout",
     "output_type": "stream",
     "text": [
      "                                             address\n",
      "0  4860 Sunset Boulevard, San Francisco, Californ...\n",
      "1   3055 Paradise Lane, Salt Lake City, Utah,  84103\n",
      "2         682 Main Street, Detroit, Michigan,  48204\n",
      "3   9001 Cascade Road, Kansas City, Missouri,  64102\n",
      "4           5853 Leon Street, Tampa, Florida,  33605\n"
     ]
    }
   ],
   "source": [
    "df_addresses = pd.DataFrame({\"address\": [\"4860 Sunset Boulevard, San Francisco, 94105\", \"3055 Paradise Lane, Salt Lake City, 84103\", \"682 Main Street, Detroit, 48204\", \"9001 Cascade Road, Kansas City, 64102\", \"5853 Leon Street, Tampa, 33605\"]})\n",
    "df_cities = pd.DataFrame({\"city\": [\"Salt Lake City\", \"Kansas City\", \"Detroit\", \"Tampa\", \"San Francisco\"], \"state\": [\"Utah\", \"Missouri\", \"Michigan\", \"Florida\", \"California\"]})\n",
    "\n",
    "#From the addresses data frame each city is contained in the each string in this format: \", city_name,\"\n",
    "#Let's split the address based on commas to isolate for the city\n",
    "df_addresses = df_addresses['address'].str.split(',', expand=True)\n",
    "df_addresses.columns = ['street', 'city', 'zipcode']\n",
    "\n",
    "# #Remove all leading/trailing whitespace\n",
    "df_addresses[\"city\"] = df_addresses['city'].str.strip()\n",
    "#Join the two dataframes on the city column \n",
    "df_addresses = df_addresses.merge(df_cities, how='left', on=['city'])\n",
    "\n",
    "df_addresses[\"address\"] = df_addresses['street'] + ', ' + df_addresses['city'] + ', ' + df_addresses['state'] + ', ' + df_addresses['zipcode']\n",
    "df_addresses = df_addresses[['address']]\n",
    "print(df_addresses)"
   ]
  },
  {
   "cell_type": "code",
   "execution_count": null,
   "metadata": {},
   "outputs": [],
   "source": []
  }
 ],
 "metadata": {
  "kernelspec": {
   "display_name": "Python 3.9.9 64-bit",
   "language": "python",
   "name": "python3"
  },
  "language_info": {
   "codemirror_mode": {
    "name": "ipython",
    "version": 3
   },
   "file_extension": ".py",
   "mimetype": "text/x-python",
   "name": "python",
   "nbconvert_exporter": "python",
   "pygments_lexer": "ipython3",
   "version": "3.9.9"
  },
  "orig_nbformat": 4,
  "vscode": {
   "interpreter": {
    "hash": "aee8b7b246df8f9039afb4144a1f6fd8d2ca17a180786b69acc140d282b71a49"
   }
  }
 },
 "nbformat": 4,
 "nbformat_minor": 2
}
