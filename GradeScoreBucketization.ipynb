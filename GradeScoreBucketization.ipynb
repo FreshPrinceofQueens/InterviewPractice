{
 "cells": [
  {
   "cell_type": "markdown",
   "metadata": {},
   "source": [
    "# Data Science Interview Prep\n",
    "## Data Manipulation\n"
   ]
  },
  {
   "cell_type": "markdown",
   "metadata": {},
   "source": [
    "1. Let’s say you’re given a list of standardized test scores from high schoolers from grades 9 to 12.\n",
    "\n",
    "Given the dataset, write code in Pandas to return the cumulative percentage of students that received scores within the buckets of <50, <75, <90, <100."
   ]
  },
  {
   "cell_type": "markdown",
   "metadata": {},
   "source": [
    "**My Solution**"
   ]
  },
  {
   "cell_type": "code",
   "execution_count": 2,
   "metadata": {},
   "outputs": [
    {
     "name": "stdout",
     "output_type": "stream",
     "text": [
      "   grade test_score  percentage\n",
      "0   10.0        <50   33.333333\n",
      "1   10.0        <75   66.666667\n",
      "2   10.0        <90  100.000000\n",
      "3   10.0       <100  100.000000\n",
      "4   11.0        <50    0.000000\n",
      "5   11.0        <75    0.000000\n",
      "6   11.0        <90    0.000000\n",
      "7   11.0       <100  100.000000\n"
     ]
    }
   ],
   "source": [
    "import pandas as pd\n",
    "\n",
    "def getDistribution(grade_df):\n",
    "    if grade_df.empty:\n",
    "        # print(\"Grade chart for grade \" + grade_df['grade'].iloc[0] + \" is empty\")\n",
    "        return pd.DataFrame({'grade': [], 'test_score': [], 'percentage': []})\n",
    "    \"\"\"\n",
    "    The thresholds we're visualizing\n",
    "    threshold1 => test scores < 50\n",
    "    threshold2 => test scores < 75\n",
    "    threshold3 => test scores < 90\n",
    "    threshold4 => test scores < 100\n",
    "    \"\"\"\n",
    "    \n",
    "    #Think of missing values\n",
    "    threshold1 = len(grade_df[grade_df['test score'] < 50])\n",
    "    threshold2 = len(grade_df[grade_df['test score'] < 75])\n",
    "    threshold3 = len(grade_df[grade_df['test score'] < 90])\n",
    "    threshold4 = len(grade_df[grade_df['test score'] < 100])\n",
    "\n",
    "    cumulPercent1 = threshold1/len(grade_df['test score']) * 100\n",
    "    cumulPercent2 = threshold2/len(grade_df['test score']) * 100\n",
    "    cumulPercent3 = threshold3/len(grade_df['test score']) * 100\n",
    "    cumulPercent4 = threshold4/len(grade_df['test score']) * 100\n",
    "\n",
    "\n",
    "\n",
    "    output_grades = pd.DataFrame({'grade': [grade_df['grade'].iloc[0],grade_df['grade'].iloc[0],grade_df['grade'].iloc[0],grade_df['grade'].iloc[0]],'test_score': ['<50', '<75', '<90', '<100'], 'percentage': [cumulPercent1, cumulPercent2, cumulPercent3, cumulPercent4]})\n",
    "    return output_grades\n",
    "\n",
    "def getDistributionByGrade(df):\n",
    "    #Check if dataframe is empty\n",
    "    if df.empty:\n",
    "        print(\"Empty grade chart\")\n",
    "\n",
    "    # Split dataset up into dataframe by grade\n",
    "    grade9 = df[df['grade'] == 9]\n",
    "    grade10 = df[df['grade'] == 10]\n",
    "    grade11 = df[df['grade'] == 11]\n",
    "    grade12 = df[df['grade'] == 12]\n",
    "\n",
    "    gradeNineOutput = getDistribution(grade9)\n",
    "    gradeTenOutput = getDistribution(grade10)\n",
    "    gradeElevenOutput = getDistribution(grade11)\n",
    "    gradeTwelveOutput = getDistribution(grade12)\n",
    "\n",
    "    gradesDistributions = [gradeNineOutput, gradeTenOutput, gradeElevenOutput, gradeTwelveOutput]\n",
    "    results = pd.concat(gradesDistributions, ignore_index=True)\n",
    "    \n",
    "    return results\n",
    "\n",
    "#Test solution\n",
    "\n",
    "testFrame = pd.DataFrame({\"grade\": [10,10,11,10,11], \"test score\": [85,60,90,30,99]})\n",
    "output = getDistributionByGrade(testFrame)\n",
    "print(output)"
   ]
  },
  {
   "cell_type": "markdown",
   "metadata": {},
   "source": [
    "**More efficient solution**"
   ]
  },
  {
   "cell_type": "code",
   "execution_count": 50,
   "metadata": {},
   "outputs": [
    {
     "name": "stdout",
     "output_type": "stream",
     "text": [
      "   user_id  grade  test score  <50  <75  <90  <100\n",
      "0        1     10          85    0    0    1     1\n",
      "1        2     10          60    0    1    1     1\n",
      "2        3     11          90    0    0    0     1\n",
      "3        4     10          30    1    1    1     1\n",
      "4        5     11          99    0    0    0     1\n"
     ]
    }
   ],
   "source": [
    "import numpy as np\n",
    "df = pd.DataFrame([[1,10,85],[2,10,60],[3,11,90],[4,10,30],[5,11,99]], columns = [\"user_id\",\"grade\",\"test score\"])\n",
    "\n",
    "#np.where allows us to grab a numpy array of the test scores, make columns of these counts\n",
    "df[\"<50\"] = np.where(df[\"test score\"]< 50, 1, 0)\n",
    "df[\"<75\"] = np.where(df[\"test score\"] < 75, 1, 0)\n",
    "df[\"<90\"] = np.where(df[\"test score\"] < 90, 1, 0)\n",
    "df[\"<100\"] = np.where(df[\"test score\"] < 100, 1, 0)\n",
    "\n",
    "print(df)"
   ]
  },
  {
   "cell_type": "code",
   "execution_count": 51,
   "metadata": {},
   "outputs": [
    {
     "name": "stdout",
     "output_type": "stream",
     "text": [
      "   grade  <50  <75  <90  <100\n",
      "0     10    1    2    3     3\n",
      "1     11    0    0    0     2\n"
     ]
    }
   ],
   "source": [
    "#Now we can group these and get the sum of counts in each bin\n",
    "df = df.groupby([\"grade\"])[[\"<50\",\"<75\",\"<90\",\"<100\"]].sum().reset_index()\n",
    "print(df)"
   ]
  },
  {
   "cell_type": "code",
   "execution_count": 52,
   "metadata": {},
   "outputs": [
    {
     "name": "stdout",
     "output_type": "stream",
     "text": [
      "   grade test score  count\n",
      "0     10        <50      1\n",
      "1     11        <50      0\n",
      "2     10        <75      2\n",
      "3     11        <75      0\n",
      "4     10        <90      3\n",
      "5     11        <90      0\n",
      "6     10       <100      3\n",
      "7     11       <100      2\n"
     ]
    }
   ],
   "source": [
    "#This unpivots every column except the grade column using making the test score columns with values from  [\"<50\",\"<75\",\"<90\",\"<100\"]\n",
    "#And the count column from the rows associated with the grade\n",
    "df = df.melt(id_vars=[\"grade\"], var_name=\"test score\", value_name=\"count\")\n",
    "print(df)"
   ]
  },
  {
   "cell_type": "code",
   "execution_count": 54,
   "metadata": {},
   "outputs": [],
   "source": [
    "#Get the total number of instances in each grade\n",
    "#We use transform to \"paste\" the result of our groupby to each row and we use max as the aggregate function because recall that these are running bins that span the range\n",
    "#Therefore the bin with the highest count, has to contain all the numbers in the subset\n",
    "df[\"groupttl\"] = df.groupby(\"grade\")[\"count\"].transform('max')"
   ]
  },
  {
   "cell_type": "code",
   "execution_count": 55,
   "metadata": {},
   "outputs": [
    {
     "name": "stdout",
     "output_type": "stream",
     "text": [
      "   grade test score  count  groupttl  percentage\n",
      "0     10        <50      1         3   33.333333\n",
      "1     11        <50      0         2    0.000000\n",
      "2     10        <75      2         3   66.666667\n",
      "3     11        <75      0         2    0.000000\n",
      "4     10        <90      3         3  100.000000\n",
      "5     11        <90      0         2    0.000000\n",
      "6     10       <100      3         3  100.000000\n",
      "7     11       <100      2         2  100.000000\n"
     ]
    }
   ],
   "source": [
    "#Get the percentage of each group\n",
    "df['percentage'] = (df['count'] / df['groupttl']) * 100\n",
    "print(df)"
   ]
  },
  {
   "cell_type": "code",
   "execution_count": 56,
   "metadata": {},
   "outputs": [
    {
     "name": "stdout",
     "output_type": "stream",
     "text": [
      "   grade test score  percentage\n",
      "0     10        <50   33.333333\n",
      "2     10        <75   66.666667\n",
      "4     10        <90  100.000000\n",
      "6     10       <100  100.000000\n",
      "1     11        <50    0.000000\n",
      "3     11        <75    0.000000\n",
      "5     11        <90    0.000000\n",
      "7     11       <100  100.000000\n"
     ]
    }
   ],
   "source": [
    "#Key in on key columns, sort values\n",
    "df = (df[['grade', 'test score', 'percentage']].copy().sort_values(['grade', 'percentage'], ascending=True))\n",
    "print(df)"
   ]
  },
  {
   "cell_type": "code",
   "execution_count": 57,
   "metadata": {},
   "outputs": [
    {
     "name": "stdout",
     "output_type": "stream",
     "text": [
      "   grade test score percentage\n",
      "0     10        <50        33%\n",
      "2     10        <75        66%\n",
      "4     10        <90       100%\n",
      "6     10       <100       100%\n",
      "1     11        <50         0%\n",
      "3     11        <75         0%\n",
      "5     11        <90         0%\n",
      "7     11       <100       100%\n"
     ]
    }
   ],
   "source": [
    "#Convert percentage column to string to allow us to cut off trailing decimals and append %\n",
    "df['percentage'] = df.percentage.astype(int).astype(str)\n",
    "df['percentage'] = df['percentage'] + '%'\n",
    "print(df)"
   ]
  },
  {
   "cell_type": "code",
   "execution_count": null,
   "metadata": {},
   "outputs": [],
   "source": []
  }
 ],
 "metadata": {
  "kernelspec": {
   "display_name": "Python 3.9.9 64-bit",
   "language": "python",
   "name": "python3"
  },
  "language_info": {
   "codemirror_mode": {
    "name": "ipython",
    "version": 3
   },
   "file_extension": ".py",
   "mimetype": "text/x-python",
   "name": "python",
   "nbconvert_exporter": "python",
   "pygments_lexer": "ipython3",
   "version": "3.9.9"
  },
  "orig_nbformat": 4,
  "vscode": {
   "interpreter": {
    "hash": "aee8b7b246df8f9039afb4144a1f6fd8d2ca17a180786b69acc140d282b71a49"
   }
  }
 },
 "nbformat": 4,
 "nbformat_minor": 2
}
